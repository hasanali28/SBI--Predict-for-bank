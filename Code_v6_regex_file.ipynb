{
 "cells": [
  {
   "cell_type": "code",
   "execution_count": 1,
   "metadata": {},
   "outputs": [],
   "source": [
    "# Update : added test data to train for preprocessing "
   ]
  },
  {
   "cell_type": "code",
   "execution_count": 2,
   "metadata": {},
   "outputs": [],
   "source": [
    "# importing libraries\n",
    "import pandas as pd\n",
    "import numpy as np"
   ]
  },
  {
   "cell_type": "code",
   "execution_count": 3,
   "metadata": {},
   "outputs": [
    {
     "name": "stdout",
     "output_type": "stream",
     "text": [
      "Download Stopwords\n"
     ]
    }
   ],
   "source": [
    "#4.Complaint-reason to bag of words,tf-idf model\n",
    "# Importing the libraries\n",
    "import re\n",
    "import pickle \n",
    "import nltk\n",
    "#nltk.download('stopwords')\n",
    "print('Download Stopwords')\n",
    "from nltk.corpus import stopwords"
   ]
  },
  {
   "cell_type": "code",
   "execution_count": 4,
   "metadata": {},
   "outputs": [],
   "source": [
    "# reading Excel file\n",
    "train = pd.read_csv('dataset/train.csv')\n",
    "test = pd.read_csv('dataset/test.csv')\n",
    "submission = pd.read_csv('dataset/sample_submission.csv')"
   ]
  },
  {
   "cell_type": "code",
   "execution_count": 5,
   "metadata": {},
   "outputs": [],
   "source": [
    "#Create Original files copy\n",
    "train_org = train.copy()\n",
    "test_org = test.copy()\n",
    "submission_org = submission.copy()"
   ]
  },
  {
   "cell_type": "code",
   "execution_count": 6,
   "metadata": {},
   "outputs": [],
   "source": [
    "test['Complaint-Status'] = np.nan\n",
    "test = test[train.columns]"
   ]
  },
  {
   "cell_type": "code",
   "execution_count": 7,
   "metadata": {},
   "outputs": [],
   "source": [
    "train = train.append(test)"
   ]
  },
  {
   "cell_type": "code",
   "execution_count": 8,
   "metadata": {},
   "outputs": [],
   "source": [
    "############################################\n",
    "#                                          #\n",
    "#     2.1 Exploratory Data Analysis        #\n",
    "#                                          #\n",
    "############################################\n",
    "\n",
    "###################################\n",
    "#  2.1.1 understanding the data   #\n",
    "###################################\n",
    "#Checking few observation of dataset\n",
    "#train.head()"
   ]
  },
  {
   "cell_type": "code",
   "execution_count": 9,
   "metadata": {},
   "outputs": [
    {
     "name": "stdout",
     "output_type": "stream",
     "text": [
      "Complaint-ID 0\n",
      "Date-received 0\n",
      "Transaction-Type 0\n",
      "Complaint-reason 0\n",
      "Company-response 32207\n",
      "Date-sent-to-company 0\n",
      "Complaint-Status 18543\n",
      "Consumer-disputes 11002\n",
      "Consumer-complaint-summary 0\n"
     ]
    }
   ],
   "source": [
    "###################################\n",
    "#  2.1.2 Missing value analysis   #\n",
    "###################################\n",
    "    \n",
    "# checking for missing values in dataset\n",
    "for i in train.columns :\n",
    "    print(i, train[i].isnull().sum())  "
   ]
  },
  {
   "cell_type": "code",
   "execution_count": 10,
   "metadata": {},
   "outputs": [
    {
     "data": {
      "text/plain": [
       "'print(\"value counts of categorical column\")\\nprint()\\nfor i in train.columns[0] :\\n    print(\\'## {} ## :- \\'.format(i))\\n    #print(train[i].value_counts())\\n    #input()'"
      ]
     },
     "execution_count": 10,
     "metadata": {},
     "output_type": "execute_result"
    }
   ],
   "source": [
    "# counting of each unique values in each categorical variable\n",
    "'''print(\"value counts of categorical column\")\n",
    "print()\n",
    "for i in train.columns[0] :\n",
    "    print('## {} ## :- '.format(i))\n",
    "    #print(train[i].value_counts())\n",
    "    #input()'''"
   ]
  },
  {
   "cell_type": "code",
   "execution_count": 11,
   "metadata": {},
   "outputs": [
    {
     "data": {
      "text/plain": [
       "'#####Observations\\n1.Convert Complian-Id to Index for obvious reasons\\n2.chk if Date-received == Date-sent-to-company;\\nConvert Date-received and Date-sent-to-company to year,month,day format\\n3.Trasaction Type , check frequency of categories\\n4.Complaint-reason to bag of words,tf-idf model\\n5.Check frequency of categories in taret variable - complaint-status, company-response,consumer-disputes\\n6.for consumer-complaint-summary, apply regex, follwed by bag of words,tf-idf conversion\\n8. investigate missing values in details, as 2columns have very high values\\n'"
      ]
     },
     "execution_count": 11,
     "metadata": {},
     "output_type": "execute_result"
    }
   ],
   "source": [
    "\n",
    "'''#####Observations\n",
    "1.Convert Complian-Id to Index for obvious reasons\n",
    "2.chk if Date-received == Date-sent-to-company;\n",
    "Convert Date-received and Date-sent-to-company to year,month,day format\n",
    "3.Trasaction Type , check frequency of categories\n",
    "4.Complaint-reason to bag of words,tf-idf model\n",
    "5.Check frequency of categories in taret variable - complaint-status, company-response,consumer-disputes\n",
    "6.for consumer-complaint-summary, apply regex, follwed by bag of words,tf-idf conversion\n",
    "8. investigate missing values in details, as 2columns have very high values\n",
    "'''"
   ]
  },
  {
   "cell_type": "code",
   "execution_count": 12,
   "metadata": {},
   "outputs": [],
   "source": [
    "# We have unique Complaint-ids and complain-id it shold not have any contribution\n",
    "#1.Convert Complian-Id to Index for obvious reasons\n",
    "train.set_index('Complaint-ID',inplace=True)"
   ]
  },
  {
   "cell_type": "code",
   "execution_count": 13,
   "metadata": {},
   "outputs": [],
   "source": [
    "# 2.chk if Date-received == Date-sent-to-company;\n",
    "#train['Date-received'] == train['Date-sent-to-company']\n",
    "# so, we observe several false values , conclude dates are different"
   ]
  },
  {
   "cell_type": "code",
   "execution_count": 14,
   "metadata": {},
   "outputs": [],
   "source": [
    "from datetime import datetime\n",
    "train['Date-received'] = pd.to_datetime(train['Date-received'])\n",
    "train['Date-sent-to-company'] = pd.to_datetime(train['Date-sent-to-company'])"
   ]
  },
  {
   "cell_type": "code",
   "execution_count": 15,
   "metadata": {},
   "outputs": [],
   "source": [
    "# Delay in date-recived to date-sent-to-company should resemble comnplaint response or etc\n",
    "train['Delay-dr-to-dstc'] = train['Date-sent-to-company']-train['Date-received']"
   ]
  },
  {
   "cell_type": "code",
   "execution_count": 16,
   "metadata": {},
   "outputs": [
    {
     "data": {
      "text/plain": [
       "\"#Convert Date-received and Date-sent-to-company to year,month,day format\\n#for i in train.index :\\ntrain['year-dr'] = train['Date-received'].dt.year\\ntrain['month-dr'] = train['Date-received'].dt.month\\ntrain['day-dr'] = train['Date-received'].dt.day\\n#train.loc[i,'day-dr'] = train.loc[i,'Date-received'].dt.day\\ntrain['year-ds2c'] = train['Date-sent-to-company'].dt.year\\ntrain['month-ds2c'] = train['Date-sent-to-company'].dt.month\\ntrain['day-ds2c'] = train['Date-sent-to-company'].dt.day\""
      ]
     },
     "execution_count": 16,
     "metadata": {},
     "output_type": "execute_result"
    }
   ],
   "source": [
    "'''#Convert Date-received and Date-sent-to-company to year,month,day format\n",
    "#for i in train.index :\n",
    "train['year-dr'] = train['Date-received'].dt.year\n",
    "train['month-dr'] = train['Date-received'].dt.month\n",
    "train['day-dr'] = train['Date-received'].dt.day\n",
    "#train.loc[i,'day-dr'] = train.loc[i,'Date-received'].dt.day\n",
    "train['year-ds2c'] = train['Date-sent-to-company'].dt.year\n",
    "train['month-ds2c'] = train['Date-sent-to-company'].dt.month\n",
    "train['day-ds2c'] = train['Date-sent-to-company'].dt.day'''"
   ]
  },
  {
   "cell_type": "code",
   "execution_count": 17,
   "metadata": {},
   "outputs": [],
   "source": [
    "train = train.drop(['Date-received','Date-sent-to-company'],axis=1)"
   ]
  },
  {
   "cell_type": "code",
   "execution_count": 18,
   "metadata": {},
   "outputs": [
    {
     "data": {
      "text/plain": [
       "\"temp = (train['day-dr'] == train['day-ds2c'])\\ntemp.value_counts()\""
      ]
     },
     "execution_count": 18,
     "metadata": {},
     "output_type": "execute_result"
    }
   ],
   "source": [
    "'''temp = (train['day-dr'] == train['day-ds2c'])\n",
    "temp.value_counts()'''"
   ]
  },
  {
   "cell_type": "code",
   "execution_count": 19,
   "metadata": {},
   "outputs": [
    {
     "data": {
      "text/html": [
       "<div>\n",
       "<style scoped>\n",
       "    .dataframe tbody tr th:only-of-type {\n",
       "        vertical-align: middle;\n",
       "    }\n",
       "\n",
       "    .dataframe tbody tr th {\n",
       "        vertical-align: top;\n",
       "    }\n",
       "\n",
       "    .dataframe thead th {\n",
       "        text-align: right;\n",
       "    }\n",
       "</style>\n",
       "<table border=\"1\" class=\"dataframe\">\n",
       "  <thead>\n",
       "    <tr style=\"text-align: right;\">\n",
       "      <th></th>\n",
       "      <th>Transaction-Type</th>\n",
       "      <th>Complaint-reason</th>\n",
       "      <th>Company-response</th>\n",
       "      <th>Complaint-Status</th>\n",
       "      <th>Consumer-disputes</th>\n",
       "      <th>Consumer-complaint-summary</th>\n",
       "      <th>Delay-dr-to-dstc</th>\n",
       "    </tr>\n",
       "    <tr>\n",
       "      <th>Complaint-ID</th>\n",
       "      <th></th>\n",
       "      <th></th>\n",
       "      <th></th>\n",
       "      <th></th>\n",
       "      <th></th>\n",
       "      <th></th>\n",
       "      <th></th>\n",
       "    </tr>\n",
       "  </thead>\n",
       "  <tbody>\n",
       "    <tr>\n",
       "      <th>Tr-1</th>\n",
       "      <td>Mortgage</td>\n",
       "      <td>Loan servicing, payments, escrow account</td>\n",
       "      <td>NaN</td>\n",
       "      <td>Closed with explanation</td>\n",
       "      <td>Yes</td>\n",
       "      <td>Seterus, Inc a déposé un faux rapport auprès d...</td>\n",
       "      <td>0 days</td>\n",
       "    </tr>\n",
       "    <tr>\n",
       "      <th>Tr-2</th>\n",
       "      <td>Credit reporting</td>\n",
       "      <td>Incorrect information on credit report</td>\n",
       "      <td>Company chooses not to provide a public response</td>\n",
       "      <td>Closed with non-monetary relief</td>\n",
       "      <td>No</td>\n",
       "      <td>XX / XX / XXXX La requête en faillite n ° XXXX...</td>\n",
       "      <td>0 days</td>\n",
       "    </tr>\n",
       "    <tr>\n",
       "      <th>Tr-3</th>\n",
       "      <td>Bank account or service</td>\n",
       "      <td>Using a debit or ATM card</td>\n",
       "      <td>NaN</td>\n",
       "      <td>Closed with explanation</td>\n",
       "      <td>No</td>\n",
       "      <td>El XXXX / XXXX / 15, estaba preparando el vuel...</td>\n",
       "      <td>0 days</td>\n",
       "    </tr>\n",
       "    <tr>\n",
       "      <th>Tr-4</th>\n",
       "      <td>Debt collection</td>\n",
       "      <td>Cont'd attempts collect debt not owed</td>\n",
       "      <td>Company believes it acted appropriately as aut...</td>\n",
       "      <td>Closed with explanation</td>\n",
       "      <td>No</td>\n",
       "      <td>The loan was paid in XXXX XXXX. In XXXX, 4 yea...</td>\n",
       "      <td>0 days</td>\n",
       "    </tr>\n",
       "  </tbody>\n",
       "</table>\n",
       "</div>"
      ],
      "text/plain": [
       "                     Transaction-Type  \\\n",
       "Complaint-ID                            \n",
       "Tr-1                         Mortgage   \n",
       "Tr-2                 Credit reporting   \n",
       "Tr-3          Bank account or service   \n",
       "Tr-4                  Debt collection   \n",
       "\n",
       "                                      Complaint-reason  \\\n",
       "Complaint-ID                                             \n",
       "Tr-1          Loan servicing, payments, escrow account   \n",
       "Tr-2            Incorrect information on credit report   \n",
       "Tr-3                         Using a debit or ATM card   \n",
       "Tr-4             Cont'd attempts collect debt not owed   \n",
       "\n",
       "                                               Company-response  \\\n",
       "Complaint-ID                                                      \n",
       "Tr-1                                                        NaN   \n",
       "Tr-2           Company chooses not to provide a public response   \n",
       "Tr-3                                                        NaN   \n",
       "Tr-4          Company believes it acted appropriately as aut...   \n",
       "\n",
       "                             Complaint-Status Consumer-disputes  \\\n",
       "Complaint-ID                                                      \n",
       "Tr-1                  Closed with explanation               Yes   \n",
       "Tr-2          Closed with non-monetary relief                No   \n",
       "Tr-3                  Closed with explanation                No   \n",
       "Tr-4                  Closed with explanation                No   \n",
       "\n",
       "                                     Consumer-complaint-summary  \\\n",
       "Complaint-ID                                                      \n",
       "Tr-1          Seterus, Inc a déposé un faux rapport auprès d...   \n",
       "Tr-2          XX / XX / XXXX La requête en faillite n ° XXXX...   \n",
       "Tr-3          El XXXX / XXXX / 15, estaba preparando el vuel...   \n",
       "Tr-4          The loan was paid in XXXX XXXX. In XXXX, 4 yea...   \n",
       "\n",
       "             Delay-dr-to-dstc  \n",
       "Complaint-ID                   \n",
       "Tr-1                   0 days  \n",
       "Tr-2                   0 days  \n",
       "Tr-3                   0 days  \n",
       "Tr-4                   0 days  "
      ]
     },
     "execution_count": 19,
     "metadata": {},
     "output_type": "execute_result"
    }
   ],
   "source": [
    "train.head(4)"
   ]
  },
  {
   "cell_type": "code",
   "execution_count": 20,
   "metadata": {},
   "outputs": [
    {
     "name": "stdout",
     "output_type": "stream",
     "text": [
      "{0: 'Closed', 1: 'Closed with explanation', 2: 'Closed with monetary relief', 3: 'Closed with non-monetary relief', 4: 'Untimely response'}\n"
     ]
    }
   ],
   "source": [
    "#find out target levels categorization\n",
    "c = train['Complaint-Status'].astype('category')\n",
    "rule = dict(enumerate(c.cat.categories))\n",
    "print(rule)"
   ]
  },
  {
   "cell_type": "code",
   "execution_count": 21,
   "metadata": {},
   "outputs": [],
   "source": [
    "for col in ['Transaction-Type','Complaint-Status','Consumer-disputes']:\n",
    "    train[col] = pd.Categorical(train[col])\n",
    "    train[col] = train[col].cat.codes\n",
    "for i in range(0,train.shape[1]):\n",
    "    train.iloc[:,i] = train.iloc[:,].replace(-1,np.nan)"
   ]
  },
  {
   "cell_type": "code",
   "execution_count": 22,
   "metadata": {},
   "outputs": [],
   "source": [
    "# 2.chk if Date-received == Date-sent-to-company;\n",
    "#train['month-dr'] == train['month-ds2c']"
   ]
  },
  {
   "cell_type": "code",
   "execution_count": 23,
   "metadata": {},
   "outputs": [],
   "source": [
    "train = train[['Complaint-Status','Transaction-Type', 'Complaint-reason', 'Company-response', 'Consumer-disputes', 'Consumer-complaint-summary','Delay-dr-to-dstc']]"
   ]
  },
  {
   "cell_type": "code",
   "execution_count": null,
   "metadata": {},
   "outputs": [],
   "source": [
    "for col in ['Complaint-reason','Company-response','Consumer-complaint-summary']:\n",
    "    for i in (train.index):\n",
    "        train.loc[i,col] = re.sub(r'\\W', ' ', str(train.loc[i,col]))\n",
    "        train.loc[i,col] = train.loc[i,col].lower()\n",
    "        train.loc[i,col] = re.sub(r'^br$', ' ', train.loc[i,col])\n",
    "        train.loc[i,col] = re.sub(r'\\s+br\\s+',' ',train.loc[i,col])\n",
    "        train.loc[i,col] = re.sub(r'\\s+[a-z]\\s+', ' ',train.loc[i,col])\n",
    "        train.loc[i,col] = re.sub(r'^b\\s+', '', train.loc[i,col])\n",
    "        train.loc[i,col] = re.sub(r'\\s+', ' ', train.loc[i,col])\n",
    "print('breakpoint 1')"
   ]
  },
  {
   "cell_type": "code",
   "execution_count": null,
   "metadata": {},
   "outputs": [],
   "source": [
    "train['Delay-dr-to-dstc'] = train['Delay-dr-to-dstc']/ np.timedelta64(1, 'D')"
   ]
  },
  {
   "cell_type": "code",
   "execution_count": null,
   "metadata": {},
   "outputs": [],
   "source": [
    "#from fancyimpute import KNN\n",
    "#train = pd.DataFrame(KNN(k=3).complete(train),columns = ['Transaction-Type','Complaint-Status','Consumer-disputes'])\n",
    "train = train.fillna(0)"
   ]
  },
  {
   "cell_type": "code",
   "execution_count": null,
   "metadata": {},
   "outputs": [],
   "source": [
    "train.to_csv('data_regex.csv')"
   ]
  },
  {
   "cell_type": "code",
   "execution_count": null,
   "metadata": {},
   "outputs": [],
   "source": [
    "'''from sklearn import metrics\n",
    "print(metrics.classification_report(ypred, ytest))'''"
   ]
  },
  {
   "cell_type": "code",
   "execution_count": null,
   "metadata": {},
   "outputs": [],
   "source": [
    "'''# Creating the Tf-Idf Model\n",
    "from sklearn.feature_extraction.text import TfidfTransformer\n",
    "transformer = TfidfTransformer()\n",
    "X = transformer.fit_transform(X).toarray()'''"
   ]
  }
 ],
 "metadata": {
  "kernelspec": {
   "display_name": "Python 3",
   "language": "python",
   "name": "python3"
  },
  "language_info": {
   "codemirror_mode": {
    "name": "ipython",
    "version": 3
   },
   "file_extension": ".py",
   "mimetype": "text/x-python",
   "name": "python",
   "nbconvert_exporter": "python",
   "pygments_lexer": "ipython3",
   "version": "3.7.0"
  }
 },
 "nbformat": 4,
 "nbformat_minor": 2
}
