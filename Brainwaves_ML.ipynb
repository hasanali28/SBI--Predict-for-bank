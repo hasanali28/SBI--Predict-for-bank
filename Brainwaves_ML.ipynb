{
 "cells": [
  {
   "cell_type": "code",
   "execution_count": 2,
   "metadata": {},
   "outputs": [],
   "source": [
    "import pandas as pd\n",
    "import numpy as np\n",
    "import os\n",
    "os.chdir(\"D:/ML/Projects/brainwaves_ML\")"
   ]
  },
  {
   "cell_type": "code",
   "execution_count": 10,
   "metadata": {},
   "outputs": [],
   "source": [
    "train_df = pd.read_csv(\"train.csv\", index_col =None)"
   ]
  },
  {
   "cell_type": "code",
   "execution_count": 11,
   "metadata": {},
   "outputs": [
    {
     "data": {
      "text/html": [
       "<div>\n",
       "<style scoped>\n",
       "    .dataframe tbody tr th:only-of-type {\n",
       "        vertical-align: middle;\n",
       "    }\n",
       "\n",
       "    .dataframe tbody tr th {\n",
       "        vertical-align: top;\n",
       "    }\n",
       "\n",
       "    .dataframe thead th {\n",
       "        text-align: right;\n",
       "    }\n",
       "</style>\n",
       "<table border=\"1\" class=\"dataframe\">\n",
       "  <thead>\n",
       "    <tr style=\"text-align: right;\">\n",
       "      <th></th>\n",
       "      <th>Complaint-ID</th>\n",
       "      <th>Date-received</th>\n",
       "      <th>Transaction-Type</th>\n",
       "      <th>Complaint-reason</th>\n",
       "      <th>Company-response</th>\n",
       "      <th>Date-sent-to-company</th>\n",
       "      <th>Complaint-Status</th>\n",
       "      <th>Consumer-disputes</th>\n",
       "      <th>Consumer-complaint-summary</th>\n",
       "    </tr>\n",
       "  </thead>\n",
       "  <tbody>\n",
       "    <tr>\n",
       "      <th>0</th>\n",
       "      <td>Tr-1</td>\n",
       "      <td>11/11/2015</td>\n",
       "      <td>Mortgage</td>\n",
       "      <td>Loan servicing, payments, escrow account</td>\n",
       "      <td>NaN</td>\n",
       "      <td>11/11/2015</td>\n",
       "      <td>Closed with explanation</td>\n",
       "      <td>Yes</td>\n",
       "      <td>Seterus, Inc a déposé un faux rapport auprès d...</td>\n",
       "    </tr>\n",
       "    <tr>\n",
       "      <th>1</th>\n",
       "      <td>Tr-2</td>\n",
       "      <td>7/7/2015</td>\n",
       "      <td>Credit reporting</td>\n",
       "      <td>Incorrect information on credit report</td>\n",
       "      <td>Company chooses not to provide a public response</td>\n",
       "      <td>7/7/2015</td>\n",
       "      <td>Closed with non-monetary relief</td>\n",
       "      <td>No</td>\n",
       "      <td>XX / XX / XXXX La requête en faillite n ° XXXX...</td>\n",
       "    </tr>\n",
       "    <tr>\n",
       "      <th>2</th>\n",
       "      <td>Tr-3</td>\n",
       "      <td>5/7/2015</td>\n",
       "      <td>Bank account or service</td>\n",
       "      <td>Using a debit or ATM card</td>\n",
       "      <td>NaN</td>\n",
       "      <td>5/7/2015</td>\n",
       "      <td>Closed with explanation</td>\n",
       "      <td>No</td>\n",
       "      <td>El XXXX / XXXX / 15, estaba preparando el vuel...</td>\n",
       "    </tr>\n",
       "    <tr>\n",
       "      <th>3</th>\n",
       "      <td>Tr-4</td>\n",
       "      <td>11/12/2016</td>\n",
       "      <td>Debt collection</td>\n",
       "      <td>Cont'd attempts collect debt not owed</td>\n",
       "      <td>Company believes it acted appropriately as aut...</td>\n",
       "      <td>11/12/2016</td>\n",
       "      <td>Closed with explanation</td>\n",
       "      <td>No</td>\n",
       "      <td>The loan was paid in XXXX XXXX. In XXXX, 4 yea...</td>\n",
       "    </tr>\n",
       "    <tr>\n",
       "      <th>4</th>\n",
       "      <td>Tr-5</td>\n",
       "      <td>9/29/2016</td>\n",
       "      <td>Credit card</td>\n",
       "      <td>Payoff process</td>\n",
       "      <td>Company has responded to the consumer and the ...</td>\n",
       "      <td>9/29/2016</td>\n",
       "      <td>Closed with explanation</td>\n",
       "      <td>No</td>\n",
       "      <td>J'ai obtenu un compte de crédit de soins pour ...</td>\n",
       "    </tr>\n",
       "  </tbody>\n",
       "</table>\n",
       "</div>"
      ],
      "text/plain": [
       "  Complaint-ID Date-received         Transaction-Type  \\\n",
       "0         Tr-1    11/11/2015                 Mortgage   \n",
       "1         Tr-2      7/7/2015         Credit reporting   \n",
       "2         Tr-3      5/7/2015  Bank account or service   \n",
       "3         Tr-4    11/12/2016          Debt collection   \n",
       "4         Tr-5     9/29/2016              Credit card   \n",
       "\n",
       "                           Complaint-reason  \\\n",
       "0  Loan servicing, payments, escrow account   \n",
       "1    Incorrect information on credit report   \n",
       "2                 Using a debit or ATM card   \n",
       "3     Cont'd attempts collect debt not owed   \n",
       "4                            Payoff process   \n",
       "\n",
       "                                    Company-response Date-sent-to-company  \\\n",
       "0                                                NaN           11/11/2015   \n",
       "1   Company chooses not to provide a public response             7/7/2015   \n",
       "2                                                NaN             5/7/2015   \n",
       "3  Company believes it acted appropriately as aut...           11/12/2016   \n",
       "4  Company has responded to the consumer and the ...            9/29/2016   \n",
       "\n",
       "                  Complaint-Status Consumer-disputes  \\\n",
       "0          Closed with explanation               Yes   \n",
       "1  Closed with non-monetary relief                No   \n",
       "2          Closed with explanation                No   \n",
       "3          Closed with explanation                No   \n",
       "4          Closed with explanation                No   \n",
       "\n",
       "                          Consumer-complaint-summary  \n",
       "0  Seterus, Inc a déposé un faux rapport auprès d...  \n",
       "1  XX / XX / XXXX La requête en faillite n ° XXXX...  \n",
       "2  El XXXX / XXXX / 15, estaba preparando el vuel...  \n",
       "3  The loan was paid in XXXX XXXX. In XXXX, 4 yea...  \n",
       "4  J'ai obtenu un compte de crédit de soins pour ...  "
      ]
     },
     "execution_count": 11,
     "metadata": {},
     "output_type": "execute_result"
    }
   ],
   "source": [
    "train_df.head()"
   ]
  },
  {
   "cell_type": "code",
   "execution_count": 8,
   "metadata": {},
   "outputs": [
    {
     "data": {
      "text/html": [
       "<div>\n",
       "<style scoped>\n",
       "    .dataframe tbody tr th:only-of-type {\n",
       "        vertical-align: middle;\n",
       "    }\n",
       "\n",
       "    .dataframe tbody tr th {\n",
       "        vertical-align: top;\n",
       "    }\n",
       "\n",
       "    .dataframe thead th {\n",
       "        text-align: right;\n",
       "    }\n",
       "</style>\n",
       "<table border=\"1\" class=\"dataframe\">\n",
       "  <thead>\n",
       "    <tr style=\"text-align: right;\">\n",
       "      <th></th>\n",
       "      <th>Complaint-ID</th>\n",
       "      <th>Date-received</th>\n",
       "      <th>Transaction-Type</th>\n",
       "      <th>Complaint-reason</th>\n",
       "      <th>Company-response</th>\n",
       "      <th>Date-sent-to-company</th>\n",
       "      <th>Complaint-Status</th>\n",
       "      <th>Consumer-disputes</th>\n",
       "      <th>Consumer-complaint-summary</th>\n",
       "    </tr>\n",
       "  </thead>\n",
       "  <tbody>\n",
       "    <tr>\n",
       "      <th>count</th>\n",
       "      <td>43266</td>\n",
       "      <td>43266</td>\n",
       "      <td>43266</td>\n",
       "      <td>43266</td>\n",
       "      <td>20760</td>\n",
       "      <td>43266</td>\n",
       "      <td>43266</td>\n",
       "      <td>35568</td>\n",
       "      <td>43266</td>\n",
       "    </tr>\n",
       "    <tr>\n",
       "      <th>unique</th>\n",
       "      <td>43266</td>\n",
       "      <td>920</td>\n",
       "      <td>18</td>\n",
       "      <td>150</td>\n",
       "      <td>10</td>\n",
       "      <td>930</td>\n",
       "      <td>5</td>\n",
       "      <td>2</td>\n",
       "      <td>43022</td>\n",
       "    </tr>\n",
       "    <tr>\n",
       "      <th>top</th>\n",
       "      <td>Tr-4664</td>\n",
       "      <td>1/19/2017</td>\n",
       "      <td>Debt collection</td>\n",
       "      <td>Incorrect information on credit report</td>\n",
       "      <td>Company has responded to the consumer and the ...</td>\n",
       "      <td>1/19/2017</td>\n",
       "      <td>Closed with explanation</td>\n",
       "      <td>No</td>\n",
       "      <td>Equifax mishandled my information, which has l...</td>\n",
       "    </tr>\n",
       "    <tr>\n",
       "      <th>freq</th>\n",
       "      <td>1</td>\n",
       "      <td>226</td>\n",
       "      <td>10422</td>\n",
       "      <td>4466</td>\n",
       "      <td>10928</td>\n",
       "      <td>182</td>\n",
       "      <td>34300</td>\n",
       "      <td>27663</td>\n",
       "      <td>13</td>\n",
       "    </tr>\n",
       "  </tbody>\n",
       "</table>\n",
       "</div>"
      ],
      "text/plain": [
       "       Complaint-ID Date-received Transaction-Type  \\\n",
       "count         43266         43266            43266   \n",
       "unique        43266           920               18   \n",
       "top         Tr-4664     1/19/2017  Debt collection   \n",
       "freq              1           226            10422   \n",
       "\n",
       "                              Complaint-reason  \\\n",
       "count                                    43266   \n",
       "unique                                     150   \n",
       "top     Incorrect information on credit report   \n",
       "freq                                      4466   \n",
       "\n",
       "                                         Company-response  \\\n",
       "count                                               20760   \n",
       "unique                                                 10   \n",
       "top     Company has responded to the consumer and the ...   \n",
       "freq                                                10928   \n",
       "\n",
       "       Date-sent-to-company         Complaint-Status Consumer-disputes  \\\n",
       "count                 43266                    43266             35568   \n",
       "unique                  930                        5                 2   \n",
       "top               1/19/2017  Closed with explanation                No   \n",
       "freq                    182                    34300             27663   \n",
       "\n",
       "                               Consumer-complaint-summary  \n",
       "count                                               43266  \n",
       "unique                                              43022  \n",
       "top     Equifax mishandled my information, which has l...  \n",
       "freq                                                   13  "
      ]
     },
     "execution_count": 8,
     "metadata": {},
     "output_type": "execute_result"
    }
   ],
   "source": [
    "train_df.describe()"
   ]
  },
  {
   "cell_type": "code",
   "execution_count": 9,
   "metadata": {},
   "outputs": [
    {
     "name": "stdout",
     "output_type": "stream",
     "text": [
      "<class 'pandas.core.frame.DataFrame'>\n",
      "RangeIndex: 43266 entries, 0 to 43265\n",
      "Data columns (total 9 columns):\n",
      "Complaint-ID                  43266 non-null object\n",
      "Date-received                 43266 non-null object\n",
      "Transaction-Type              43266 non-null object\n",
      "Complaint-reason              43266 non-null object\n",
      "Company-response              20760 non-null object\n",
      "Date-sent-to-company          43266 non-null object\n",
      "Complaint-Status              43266 non-null object\n",
      "Consumer-disputes             35568 non-null object\n",
      "Consumer-complaint-summary    43266 non-null object\n",
      "dtypes: object(9)\n",
      "memory usage: 3.0+ MB\n"
     ]
    }
   ],
   "source": [
    "train_df.info()"
   ]
  },
  {
   "cell_type": "code",
   "execution_count": 11,
   "metadata": {},
   "outputs": [
    {
     "data": {
      "text/plain": [
       "Debt collection                                                                 10422\n",
       "Mortgage                                                                         7950\n",
       "Credit reporting                                                                 6706\n",
       "Credit card                                                                      4119\n",
       "Bank account or service                                                          3264\n",
       "Credit reporting, credit repair services, or other personal consumer reports     3169\n",
       "Student loan                                                                     2874\n",
       "Consumer Loan                                                                    2033\n",
       "Credit card or prepaid card                                                       719\n",
       "Checking or savings account                                                       496\n",
       "Payday loan                                                                       363\n",
       "Money transfers                                                                   332\n",
       "Prepaid card                                                                      308\n",
       "Vehicle loan or lease                                                             155\n",
       "Money transfer, virtual currency, or money service                                147\n",
       "Payday loan, title loan, or personal loan                                         145\n",
       "Other financial service                                                            60\n",
       "Virtual currency                                                                    4\n",
       "Name: Transaction-Type, dtype: int64"
      ]
     },
     "execution_count": 11,
     "metadata": {},
     "output_type": "execute_result"
    }
   ],
   "source": [
    "train_df['Transaction-Type'].value_counts()"
   ]
  },
  {
   "cell_type": "code",
   "execution_count": 4,
   "metadata": {},
   "outputs": [
    {
     "data": {
      "text/plain": [
       "Index(['Complaint-ID', 'Date-received', 'Transaction-Type', 'Complaint-reason',\n",
       "       'Company-response', 'Date-sent-to-company', 'Complaint-Status',\n",
       "       'Consumer-disputes', 'Consumer-complaint-summary'],\n",
       "      dtype='object')"
      ]
     },
     "execution_count": 4,
     "metadata": {},
     "output_type": "execute_result"
    }
   ],
   "source": [
    "train_df.columns"
   ]
  },
  {
   "cell_type": "code",
   "execution_count": 5,
   "metadata": {},
   "outputs": [],
   "source": [
    "train_df = train_df[['Complaint-ID', 'Transaction-Type', 'Date-received', 'Complaint-reason', 'Date-sent-to-company',\n",
    "       'Company-response', 'Consumer-disputes', 'Consumer-complaint-summary', 'Complaint-Status']]"
   ]
  },
  {
   "cell_type": "code",
   "execution_count": 6,
   "metadata": {},
   "outputs": [
    {
     "data": {
      "text/html": [
       "<div>\n",
       "<style scoped>\n",
       "    .dataframe tbody tr th:only-of-type {\n",
       "        vertical-align: middle;\n",
       "    }\n",
       "\n",
       "    .dataframe tbody tr th {\n",
       "        vertical-align: top;\n",
       "    }\n",
       "\n",
       "    .dataframe thead th {\n",
       "        text-align: right;\n",
       "    }\n",
       "</style>\n",
       "<table border=\"1\" class=\"dataframe\">\n",
       "  <thead>\n",
       "    <tr style=\"text-align: right;\">\n",
       "      <th></th>\n",
       "      <th>Complaint-ID</th>\n",
       "      <th>Transaction-Type</th>\n",
       "      <th>Date-received</th>\n",
       "      <th>Complaint-reason</th>\n",
       "      <th>Date-sent-to-company</th>\n",
       "      <th>Company-response</th>\n",
       "      <th>Consumer-disputes</th>\n",
       "      <th>Consumer-complaint-summary</th>\n",
       "      <th>Complaint-Status</th>\n",
       "    </tr>\n",
       "  </thead>\n",
       "  <tbody>\n",
       "    <tr>\n",
       "      <th>0</th>\n",
       "      <td>Tr-1</td>\n",
       "      <td>Mortgage</td>\n",
       "      <td>11/11/2015</td>\n",
       "      <td>Loan servicing, payments, escrow account</td>\n",
       "      <td>11/11/2015</td>\n",
       "      <td>NaN</td>\n",
       "      <td>Yes</td>\n",
       "      <td>Seterus, Inc a déposé un faux rapport auprès d...</td>\n",
       "      <td>Closed with explanation</td>\n",
       "    </tr>\n",
       "    <tr>\n",
       "      <th>1</th>\n",
       "      <td>Tr-2</td>\n",
       "      <td>Credit reporting</td>\n",
       "      <td>7/7/2015</td>\n",
       "      <td>Incorrect information on credit report</td>\n",
       "      <td>7/7/2015</td>\n",
       "      <td>Company chooses not to provide a public response</td>\n",
       "      <td>No</td>\n",
       "      <td>XX / XX / XXXX La requête en faillite n ° XXXX...</td>\n",
       "      <td>Closed with non-monetary relief</td>\n",
       "    </tr>\n",
       "    <tr>\n",
       "      <th>2</th>\n",
       "      <td>Tr-3</td>\n",
       "      <td>Bank account or service</td>\n",
       "      <td>5/7/2015</td>\n",
       "      <td>Using a debit or ATM card</td>\n",
       "      <td>5/7/2015</td>\n",
       "      <td>NaN</td>\n",
       "      <td>No</td>\n",
       "      <td>El XXXX / XXXX / 15, estaba preparando el vuel...</td>\n",
       "      <td>Closed with explanation</td>\n",
       "    </tr>\n",
       "    <tr>\n",
       "      <th>3</th>\n",
       "      <td>Tr-4</td>\n",
       "      <td>Debt collection</td>\n",
       "      <td>11/12/2016</td>\n",
       "      <td>Cont'd attempts collect debt not owed</td>\n",
       "      <td>11/12/2016</td>\n",
       "      <td>Company believes it acted appropriately as aut...</td>\n",
       "      <td>No</td>\n",
       "      <td>The loan was paid in XXXX XXXX. In XXXX, 4 yea...</td>\n",
       "      <td>Closed with explanation</td>\n",
       "    </tr>\n",
       "    <tr>\n",
       "      <th>4</th>\n",
       "      <td>Tr-5</td>\n",
       "      <td>Credit card</td>\n",
       "      <td>9/29/2016</td>\n",
       "      <td>Payoff process</td>\n",
       "      <td>9/29/2016</td>\n",
       "      <td>Company has responded to the consumer and the ...</td>\n",
       "      <td>No</td>\n",
       "      <td>J'ai obtenu un compte de crédit de soins pour ...</td>\n",
       "      <td>Closed with explanation</td>\n",
       "    </tr>\n",
       "  </tbody>\n",
       "</table>\n",
       "</div>"
      ],
      "text/plain": [
       "  Complaint-ID         Transaction-Type Date-received  \\\n",
       "0         Tr-1                 Mortgage    11/11/2015   \n",
       "1         Tr-2         Credit reporting      7/7/2015   \n",
       "2         Tr-3  Bank account or service      5/7/2015   \n",
       "3         Tr-4          Debt collection    11/12/2016   \n",
       "4         Tr-5              Credit card     9/29/2016   \n",
       "\n",
       "                           Complaint-reason Date-sent-to-company  \\\n",
       "0  Loan servicing, payments, escrow account           11/11/2015   \n",
       "1    Incorrect information on credit report             7/7/2015   \n",
       "2                 Using a debit or ATM card             5/7/2015   \n",
       "3     Cont'd attempts collect debt not owed           11/12/2016   \n",
       "4                            Payoff process            9/29/2016   \n",
       "\n",
       "                                    Company-response Consumer-disputes  \\\n",
       "0                                                NaN               Yes   \n",
       "1   Company chooses not to provide a public response                No   \n",
       "2                                                NaN                No   \n",
       "3  Company believes it acted appropriately as aut...                No   \n",
       "4  Company has responded to the consumer and the ...                No   \n",
       "\n",
       "                          Consumer-complaint-summary  \\\n",
       "0  Seterus, Inc a déposé un faux rapport auprès d...   \n",
       "1  XX / XX / XXXX La requête en faillite n ° XXXX...   \n",
       "2  El XXXX / XXXX / 15, estaba preparando el vuel...   \n",
       "3  The loan was paid in XXXX XXXX. In XXXX, 4 yea...   \n",
       "4  J'ai obtenu un compte de crédit de soins pour ...   \n",
       "\n",
       "                  Complaint-Status  \n",
       "0          Closed with explanation  \n",
       "1  Closed with non-monetary relief  \n",
       "2          Closed with explanation  \n",
       "3          Closed with explanation  \n",
       "4          Closed with explanation  "
      ]
     },
     "execution_count": 6,
     "metadata": {},
     "output_type": "execute_result"
    }
   ],
   "source": [
    "train_df.head()"
   ]
  },
  {
   "cell_type": "code",
   "execution_count": 14,
   "metadata": {},
   "outputs": [
    {
     "data": {
      "text/plain": [
       "Closed with explanation            34300\n",
       "Closed with non-monetary relief     5018\n",
       "Closed with monetary relief         2818\n",
       "Closed                               809\n",
       "Untimely response                    321\n",
       "Name: Complaint-Status, dtype: int64"
      ]
     },
     "execution_count": 14,
     "metadata": {},
     "output_type": "execute_result"
    }
   ],
   "source": [
    "train_df['Complaint-Status'].value_counts()"
   ]
  },
  {
   "cell_type": "code",
   "execution_count": 15,
   "metadata": {},
   "outputs": [
    {
     "name": "stdout",
     "output_type": "stream",
     "text": [
      "Collecting googletrans\n",
      "  Downloading https://files.pythonhosted.org/packages/fd/f0/a22d41d3846d1f46a4f20086141e0428ccc9c6d644aacbfd30990cf46886/googletrans-2.4.0.tar.gz\n",
      "Requirement already satisfied: requests in c:\\users\\pele1\\anaconda3\\lib\\site-packages (from googletrans) (2.21.0)\n",
      "Requirement already satisfied: certifi>=2017.4.17 in c:\\users\\pele1\\anaconda3\\lib\\site-packages (from requests->googletrans) (2018.11.29)\n",
      "Requirement already satisfied: urllib3<1.25,>=1.21.1 in c:\\users\\pele1\\anaconda3\\lib\\site-packages (from requests->googletrans) (1.24.1)\n",
      "Requirement already satisfied: idna<2.9,>=2.5 in c:\\users\\pele1\\anaconda3\\lib\\site-packages (from requests->googletrans) (2.8)\n",
      "Requirement already satisfied: chardet<3.1.0,>=3.0.2 in c:\\users\\pele1\\anaconda3\\lib\\site-packages (from requests->googletrans) (3.0.4)\n",
      "Building wheels for collected packages: googletrans\n",
      "  Running setup.py bdist_wheel for googletrans: started\n",
      "  Running setup.py bdist_wheel for googletrans: finished with status 'done'\n",
      "  Stored in directory: C:\\Users\\pele1\\AppData\\Local\\pip\\Cache\\wheels\\50\\d6\\e7\\a8efd5f2427d5eb258070048718fa56ee5ac57fd6f53505f95\n",
      "Successfully built googletrans\n",
      "Installing collected packages: googletrans\n",
      "Successfully installed googletrans-2.4.0\n"
     ]
    }
   ],
   "source": [
    "!pip install googletrans"
   ]
  },
  {
   "cell_type": "code",
   "execution_count": null,
   "metadata": {},
   "outputs": [],
   "source": [
    "from googletrans import Translator\n",
    "translator = Translator()\n",
    "train_df[\"Consumer-complaint-summary\"] = train_df[\"Consumer-complaint-summary\"].map(lambda x: translator.translate(text = x, src=\"fr\", dest=\"en\").text)"
   ]
  },
  {
   "cell_type": "code",
   "execution_count": null,
   "metadata": {},
   "outputs": [],
   "source": []
  }
 ],
 "metadata": {
  "kernelspec": {
   "display_name": "Python 3",
   "language": "python",
   "name": "python3"
  },
  "language_info": {
   "codemirror_mode": {
    "name": "ipython",
    "version": 3
   },
   "file_extension": ".py",
   "mimetype": "text/x-python",
   "name": "python",
   "nbconvert_exporter": "python",
   "pygments_lexer": "ipython3",
   "version": "3.7.1"
  }
 },
 "nbformat": 4,
 "nbformat_minor": 2
}
